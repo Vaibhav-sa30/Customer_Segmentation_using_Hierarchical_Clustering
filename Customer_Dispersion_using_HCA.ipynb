{
  "nbformat": 4,
  "nbformat_minor": 0,
  "metadata": {
    "colab": {
      "provenance": [],
      "authorship_tag": "ABX9TyOwixk1uDPVeCO+Q/mK3Vs7",
      "include_colab_link": true
    },
    "kernelspec": {
      "name": "python3",
      "display_name": "Python 3"
    },
    "language_info": {
      "name": "python"
    }
  },
  "cells": [
    {
      "cell_type": "markdown",
      "metadata": {
        "id": "view-in-github",
        "colab_type": "text"
      },
      "source": [
        "<a href=\"https://colab.research.google.com/github/Vaibhav-sa30/Customer_Segmentation_using_Hierarchical_Clustering/blob/main/Customer_Dispersion_using_HCA.ipynb\" target=\"_parent\"><img src=\"https://colab.research.google.com/assets/colab-badge.svg\" alt=\"Open In Colab\"/></a>"
      ]
    },
    {
      "cell_type": "markdown",
      "source": [
        "# **Project Title**\n",
        "##****Hierarchical Clustering****\n",
        "---\n",
        "#**Submitted By**\n",
        "####**VAIBHAV SATISH**\n",
        "---\n",
        "#**Submitted To**\n",
        "####Coincent.ai under *Data Science with Python program*"
      ],
      "metadata": {
        "id": "VnzOxLXf3uZt"
      }
    },
    {
      "cell_type": "markdown",
      "source": [
        "##What is Clustering?\n",
        "Clustering is a machine learning ‘technique’ that groups the data we provide such that, datapoints within a cluster are more similar to each other (or we can say homogeneous) than the datapoints from other clusters. That is, datapoints from different clusters should be as dissimilar as possible.\n",
        "\n",
        "###Hierarchical Clustering\n",
        "As the name suggests, in Hierarchical Cluster there is some sort of hierarchy maintained in the decomposition of the dataset into clusters. This hierarchical decomposition is what gives Hierarchical Clustering an edge over other clustering techniques. Because in hierarchical clustering we not just get clusters of the data, we also get extra information as in what order the algorithm formed those clusters. This extra information can be helpful in determining some relation between groups within data. That is, we get to know which group is a closer cluster to which group and what is the next closer cluster. Hierarchical Clustering shows all the possible linkages between different clusters.\n",
        "\n",
        "####Agglomerative Clustering\n",
        "This bottom up algorithm treat each datapoint as a single cluster at the initial step and then successively merge (or agglomerate) pairs of clusters until all clusters have been merged into a single cluster that contains all datapoints.\n",
        "Bottom up hierarchical clustering is therefore called  Hierarchical Agglomerative Clustering or HAC.\n",
        "\n",
        "Checkout the [complete project walkthrough on My Website](https://sites.google.com/view/vaibhavsatish/home)\n",
        "\n",
        "Give a read to [Broad Brush on HAC from My Blog](https://vaibhavsatish.substack.com/p/learn-and-implement-hierarchical)\n",
        "\n",
        "[Link to Dataset](https://www.kaggle.com/datasets/vjchoudhary7/customer-segmentation-tutorial-in-python)\n",
        "\n",
        "Scikit Learn hierarchical Clustering [Documentation link](https://scikit-learn.org/stable/modules/clustering.html#hierarchical-clustering)"
      ],
      "metadata": {
        "id": "Ixx0nmi7ihbz"
      }
    },
    {
      "cell_type": "markdown",
      "source": [
        "## Import required library"
      ],
      "metadata": {
        "id": "K8saAFloZxmG"
      }
    },
    {
      "cell_type": "code",
      "execution_count": null,
      "metadata": {
        "id": "LUPioROyJE3v"
      },
      "outputs": [],
      "source": [
        "import numpy as np\n",
        "import pandas as pd\n",
        "import matplotlib.pyplot as plt\n",
        "import seaborn as sns\n",
        "import scipy.cluster.hierarchy as sch"
      ]
    },
    {
      "cell_type": "markdown",
      "source": [
        "### Importing the data from CSV file"
      ],
      "metadata": {
        "id": "jl7aAwpNZ-vb"
      }
    },
    {
      "cell_type": "markdown",
      "source": [
        "First we read the data from the dataset using read_csv from the pandas library.\n"
      ],
      "metadata": {
        "id": "4_D58LBZbM-J"
      }
    },
    {
      "cell_type": "code",
      "source": [
        "data = pd.read_csv('/content/Mall_Customers.csv')"
      ],
      "metadata": {
        "id": "wamCQHBlJkOU",
        "colab": {
          "base_uri": "https://localhost:8080/",
          "height": 328
        },
        "outputId": "0b7e1bd9-2a7f-44aa-f4b3-07e04bf766c5"
      },
      "execution_count": null,
      "outputs": [
        {
          "output_type": "error",
          "ename": "FileNotFoundError",
          "evalue": "ignored",
          "traceback": [
            "\u001b[0;31m---------------------------------------------------------------------------\u001b[0m",
            "\u001b[0;31mFileNotFoundError\u001b[0m                         Traceback (most recent call last)",
            "\u001b[0;32m<ipython-input-5-535cd2f3b4f0>\u001b[0m in \u001b[0;36m<module>\u001b[0;34m\u001b[0m\n\u001b[0;32m----> 1\u001b[0;31m \u001b[0mdata\u001b[0m \u001b[0;34m=\u001b[0m \u001b[0mpd\u001b[0m\u001b[0;34m.\u001b[0m\u001b[0mread_csv\u001b[0m\u001b[0;34m(\u001b[0m\u001b[0;34m'/content/Mall_Customers.csv'\u001b[0m\u001b[0;34m)\u001b[0m\u001b[0;34m\u001b[0m\u001b[0;34m\u001b[0m\u001b[0m\n\u001b[0m",
            "\u001b[0;32m/usr/local/lib/python3.9/dist-packages/pandas/util/_decorators.py\u001b[0m in \u001b[0;36mwrapper\u001b[0;34m(*args, **kwargs)\u001b[0m\n\u001b[1;32m    309\u001b[0m                     \u001b[0mstacklevel\u001b[0m\u001b[0;34m=\u001b[0m\u001b[0mstacklevel\u001b[0m\u001b[0;34m,\u001b[0m\u001b[0;34m\u001b[0m\u001b[0;34m\u001b[0m\u001b[0m\n\u001b[1;32m    310\u001b[0m                 )\n\u001b[0;32m--> 311\u001b[0;31m             \u001b[0;32mreturn\u001b[0m \u001b[0mfunc\u001b[0m\u001b[0;34m(\u001b[0m\u001b[0;34m*\u001b[0m\u001b[0margs\u001b[0m\u001b[0;34m,\u001b[0m \u001b[0;34m**\u001b[0m\u001b[0mkwargs\u001b[0m\u001b[0;34m)\u001b[0m\u001b[0;34m\u001b[0m\u001b[0;34m\u001b[0m\u001b[0m\n\u001b[0m\u001b[1;32m    312\u001b[0m \u001b[0;34m\u001b[0m\u001b[0m\n\u001b[1;32m    313\u001b[0m         \u001b[0;32mreturn\u001b[0m \u001b[0mwrapper\u001b[0m\u001b[0;34m\u001b[0m\u001b[0;34m\u001b[0m\u001b[0m\n",
            "\u001b[0;32m/usr/local/lib/python3.9/dist-packages/pandas/io/parsers/readers.py\u001b[0m in \u001b[0;36mread_csv\u001b[0;34m(filepath_or_buffer, sep, delimiter, header, names, index_col, usecols, squeeze, prefix, mangle_dupe_cols, dtype, engine, converters, true_values, false_values, skipinitialspace, skiprows, skipfooter, nrows, na_values, keep_default_na, na_filter, verbose, skip_blank_lines, parse_dates, infer_datetime_format, keep_date_col, date_parser, dayfirst, cache_dates, iterator, chunksize, compression, thousands, decimal, lineterminator, quotechar, quoting, doublequote, escapechar, comment, encoding, encoding_errors, dialect, error_bad_lines, warn_bad_lines, on_bad_lines, delim_whitespace, low_memory, memory_map, float_precision, storage_options)\u001b[0m\n\u001b[1;32m    676\u001b[0m     \u001b[0mkwds\u001b[0m\u001b[0;34m.\u001b[0m\u001b[0mupdate\u001b[0m\u001b[0;34m(\u001b[0m\u001b[0mkwds_defaults\u001b[0m\u001b[0;34m)\u001b[0m\u001b[0;34m\u001b[0m\u001b[0;34m\u001b[0m\u001b[0m\n\u001b[1;32m    677\u001b[0m \u001b[0;34m\u001b[0m\u001b[0m\n\u001b[0;32m--> 678\u001b[0;31m     \u001b[0;32mreturn\u001b[0m \u001b[0m_read\u001b[0m\u001b[0;34m(\u001b[0m\u001b[0mfilepath_or_buffer\u001b[0m\u001b[0;34m,\u001b[0m \u001b[0mkwds\u001b[0m\u001b[0;34m)\u001b[0m\u001b[0;34m\u001b[0m\u001b[0;34m\u001b[0m\u001b[0m\n\u001b[0m\u001b[1;32m    679\u001b[0m \u001b[0;34m\u001b[0m\u001b[0m\n\u001b[1;32m    680\u001b[0m \u001b[0;34m\u001b[0m\u001b[0m\n",
            "\u001b[0;32m/usr/local/lib/python3.9/dist-packages/pandas/io/parsers/readers.py\u001b[0m in \u001b[0;36m_read\u001b[0;34m(filepath_or_buffer, kwds)\u001b[0m\n\u001b[1;32m    573\u001b[0m \u001b[0;34m\u001b[0m\u001b[0m\n\u001b[1;32m    574\u001b[0m     \u001b[0;31m# Create the parser.\u001b[0m\u001b[0;34m\u001b[0m\u001b[0;34m\u001b[0m\u001b[0m\n\u001b[0;32m--> 575\u001b[0;31m     \u001b[0mparser\u001b[0m \u001b[0;34m=\u001b[0m \u001b[0mTextFileReader\u001b[0m\u001b[0;34m(\u001b[0m\u001b[0mfilepath_or_buffer\u001b[0m\u001b[0;34m,\u001b[0m \u001b[0;34m**\u001b[0m\u001b[0mkwds\u001b[0m\u001b[0;34m)\u001b[0m\u001b[0;34m\u001b[0m\u001b[0;34m\u001b[0m\u001b[0m\n\u001b[0m\u001b[1;32m    576\u001b[0m \u001b[0;34m\u001b[0m\u001b[0m\n\u001b[1;32m    577\u001b[0m     \u001b[0;32mif\u001b[0m \u001b[0mchunksize\u001b[0m \u001b[0;32mor\u001b[0m \u001b[0miterator\u001b[0m\u001b[0;34m:\u001b[0m\u001b[0;34m\u001b[0m\u001b[0;34m\u001b[0m\u001b[0m\n",
            "\u001b[0;32m/usr/local/lib/python3.9/dist-packages/pandas/io/parsers/readers.py\u001b[0m in \u001b[0;36m__init__\u001b[0;34m(self, f, engine, **kwds)\u001b[0m\n\u001b[1;32m    930\u001b[0m \u001b[0;34m\u001b[0m\u001b[0m\n\u001b[1;32m    931\u001b[0m         \u001b[0mself\u001b[0m\u001b[0;34m.\u001b[0m\u001b[0mhandles\u001b[0m\u001b[0;34m:\u001b[0m \u001b[0mIOHandles\u001b[0m \u001b[0;34m|\u001b[0m \u001b[0;32mNone\u001b[0m \u001b[0;34m=\u001b[0m \u001b[0;32mNone\u001b[0m\u001b[0;34m\u001b[0m\u001b[0;34m\u001b[0m\u001b[0m\n\u001b[0;32m--> 932\u001b[0;31m         \u001b[0mself\u001b[0m\u001b[0;34m.\u001b[0m\u001b[0m_engine\u001b[0m \u001b[0;34m=\u001b[0m \u001b[0mself\u001b[0m\u001b[0;34m.\u001b[0m\u001b[0m_make_engine\u001b[0m\u001b[0;34m(\u001b[0m\u001b[0mf\u001b[0m\u001b[0;34m,\u001b[0m \u001b[0mself\u001b[0m\u001b[0;34m.\u001b[0m\u001b[0mengine\u001b[0m\u001b[0;34m)\u001b[0m\u001b[0;34m\u001b[0m\u001b[0;34m\u001b[0m\u001b[0m\n\u001b[0m\u001b[1;32m    933\u001b[0m \u001b[0;34m\u001b[0m\u001b[0m\n\u001b[1;32m    934\u001b[0m     \u001b[0;32mdef\u001b[0m \u001b[0mclose\u001b[0m\u001b[0;34m(\u001b[0m\u001b[0mself\u001b[0m\u001b[0;34m)\u001b[0m\u001b[0;34m:\u001b[0m\u001b[0;34m\u001b[0m\u001b[0;34m\u001b[0m\u001b[0m\n",
            "\u001b[0;32m/usr/local/lib/python3.9/dist-packages/pandas/io/parsers/readers.py\u001b[0m in \u001b[0;36m_make_engine\u001b[0;34m(self, f, engine)\u001b[0m\n\u001b[1;32m   1214\u001b[0m             \u001b[0;31m# \"Union[str, PathLike[str], ReadCsvBuffer[bytes], ReadCsvBuffer[str]]\"\u001b[0m\u001b[0;34m\u001b[0m\u001b[0;34m\u001b[0m\u001b[0m\n\u001b[1;32m   1215\u001b[0m             \u001b[0;31m# , \"str\", \"bool\", \"Any\", \"Any\", \"Any\", \"Any\", \"Any\"\u001b[0m\u001b[0;34m\u001b[0m\u001b[0;34m\u001b[0m\u001b[0m\n\u001b[0;32m-> 1216\u001b[0;31m             self.handles = get_handle(  # type: ignore[call-overload]\n\u001b[0m\u001b[1;32m   1217\u001b[0m                 \u001b[0mf\u001b[0m\u001b[0;34m,\u001b[0m\u001b[0;34m\u001b[0m\u001b[0;34m\u001b[0m\u001b[0m\n\u001b[1;32m   1218\u001b[0m                 \u001b[0mmode\u001b[0m\u001b[0;34m,\u001b[0m\u001b[0;34m\u001b[0m\u001b[0;34m\u001b[0m\u001b[0m\n",
            "\u001b[0;32m/usr/local/lib/python3.9/dist-packages/pandas/io/common.py\u001b[0m in \u001b[0;36mget_handle\u001b[0;34m(path_or_buf, mode, encoding, compression, memory_map, is_text, errors, storage_options)\u001b[0m\n\u001b[1;32m    784\u001b[0m         \u001b[0;32mif\u001b[0m \u001b[0mioargs\u001b[0m\u001b[0;34m.\u001b[0m\u001b[0mencoding\u001b[0m \u001b[0;32mand\u001b[0m \u001b[0;34m\"b\"\u001b[0m \u001b[0;32mnot\u001b[0m \u001b[0;32min\u001b[0m \u001b[0mioargs\u001b[0m\u001b[0;34m.\u001b[0m\u001b[0mmode\u001b[0m\u001b[0;34m:\u001b[0m\u001b[0;34m\u001b[0m\u001b[0;34m\u001b[0m\u001b[0m\n\u001b[1;32m    785\u001b[0m             \u001b[0;31m# Encoding\u001b[0m\u001b[0;34m\u001b[0m\u001b[0;34m\u001b[0m\u001b[0m\n\u001b[0;32m--> 786\u001b[0;31m             handle = open(\n\u001b[0m\u001b[1;32m    787\u001b[0m                 \u001b[0mhandle\u001b[0m\u001b[0;34m,\u001b[0m\u001b[0;34m\u001b[0m\u001b[0;34m\u001b[0m\u001b[0m\n\u001b[1;32m    788\u001b[0m                 \u001b[0mioargs\u001b[0m\u001b[0;34m.\u001b[0m\u001b[0mmode\u001b[0m\u001b[0;34m,\u001b[0m\u001b[0;34m\u001b[0m\u001b[0;34m\u001b[0m\u001b[0m\n",
            "\u001b[0;31mFileNotFoundError\u001b[0m: [Errno 2] No such file or directory: '/content/Mall_Customers.csv'"
          ]
        }
      ]
    },
    {
      "cell_type": "markdown",
      "source": [
        "Viewing the data that we imported to pandas dataframe object"
      ],
      "metadata": {
        "id": "vT601k1hbUC-"
      }
    },
    {
      "cell_type": "code",
      "source": [
        "data\n"
      ],
      "metadata": {
        "id": "ixxj8cO-JlV2"
      },
      "execution_count": null,
      "outputs": []
    },
    {
      "cell_type": "markdown",
      "source": [
        "##Viewing and Describing data"
      ],
      "metadata": {
        "id": "U_el5DXNbYa8"
      }
    },
    {
      "cell_type": "markdown",
      "source": [
        "Now we view the Head and Tail of the data using head() and tail() respectively."
      ],
      "metadata": {
        "id": "-QseyoOQbnhQ"
      }
    },
    {
      "cell_type": "code",
      "source": [
        "data.head()"
      ],
      "metadata": {
        "id": "M_GnV1-sFUa2"
      },
      "execution_count": null,
      "outputs": []
    },
    {
      "cell_type": "code",
      "source": [
        "data.tail()"
      ],
      "metadata": {
        "id": "qcJyarW9Fm-_"
      },
      "execution_count": null,
      "outputs": []
    },
    {
      "cell_type": "markdown",
      "source": [
        "Checking the dimensions/shape of the dataset using shape.\n"
      ],
      "metadata": {
        "id": "5jaqAu3ZbutB"
      }
    },
    {
      "cell_type": "code",
      "source": [
        "data.shape"
      ],
      "metadata": {
        "id": "99Fy-3esFpej",
        "outputId": "47ba412f-566a-432b-af5c-320a7da9a275",
        "colab": {
          "base_uri": "https://localhost:8080/",
          "height": 165
        }
      },
      "execution_count": null,
      "outputs": [
        {
          "output_type": "error",
          "ename": "NameError",
          "evalue": "ignored",
          "traceback": [
            "\u001b[0;31m---------------------------------------------------------------------------\u001b[0m",
            "\u001b[0;31mNameError\u001b[0m                                 Traceback (most recent call last)",
            "\u001b[0;32m<ipython-input-6-047ed65ff157>\u001b[0m in \u001b[0;36m<module>\u001b[0;34m\u001b[0m\n\u001b[0;32m----> 1\u001b[0;31m \u001b[0mdata\u001b[0m\u001b[0;34m.\u001b[0m\u001b[0mshape\u001b[0m\u001b[0;34m\u001b[0m\u001b[0;34m\u001b[0m\u001b[0m\n\u001b[0m",
            "\u001b[0;31mNameError\u001b[0m: name 'data' is not defined"
          ]
        }
      ]
    },
    {
      "cell_type": "markdown",
      "source": [
        "Viewing Column names of the dataset using columns"
      ],
      "metadata": {
        "id": "CXrDqpdpb1r1"
      }
    },
    {
      "cell_type": "code",
      "source": [
        "data.columns\n"
      ],
      "metadata": {
        "id": "IjmliPkzFuNH"
      },
      "execution_count": null,
      "outputs": []
    },
    {
      "cell_type": "code",
      "source": [
        "for i, col in enumerate(data.columns):\n",
        "  print(f'Column number {i+1} is {col}')"
      ],
      "metadata": {
        "id": "1WIKTe9IHl3-"
      },
      "execution_count": null,
      "outputs": []
    },
    {
      "cell_type": "markdown",
      "source": [
        "Describing the data as basic statistics using describe()"
      ],
      "metadata": {
        "id": "kZUYk_rUb-s_"
      }
    },
    {
      "cell_type": "code",
      "source": [
        "data.describe()"
      ],
      "metadata": {
        "id": "Uu5avigsIEVh"
      },
      "execution_count": null,
      "outputs": []
    },
    {
      "cell_type": "code",
      "source": [
        "data.columns[4]"
      ],
      "metadata": {
        "id": "vWMNkLhcIUdn"
      },
      "execution_count": null,
      "outputs": []
    },
    {
      "cell_type": "markdown",
      "source": [
        "##Data Cleaning\n",
        "Checking the data for inconsistencies and further cleaning the data if needed."
      ],
      "metadata": {
        "id": "7JwRUUW0cKQ_"
      }
    },
    {
      "cell_type": "markdown",
      "source": [
        "Checking data for missing values using isnull()"
      ],
      "metadata": {
        "id": "pzUxQoiwcQIR"
      }
    },
    {
      "cell_type": "code",
      "source": [
        "data.isnull()"
      ],
      "metadata": {
        "id": "7sybRzD9IizR"
      },
      "execution_count": null,
      "outputs": []
    },
    {
      "cell_type": "markdown",
      "source": [
        "Checking summary of missing values"
      ],
      "metadata": {
        "id": "IUkMXkSncYGM"
      }
    },
    {
      "cell_type": "code",
      "source": [
        "data.isnull().sum()"
      ],
      "metadata": {
        "id": "ZZ8M1pm6cdph"
      },
      "execution_count": null,
      "outputs": []
    },
    {
      "cell_type": "markdown",
      "source": [
        "The 'customer_id' column has no relevence therefore deleting it would be better.\n",
        "\n",
        "Deleting 'customer_id' colummn using drop()."
      ],
      "metadata": {
        "id": "oVp2fFcfcopi"
      }
    },
    {
      "cell_type": "code",
      "source": [
        "data = data.drop('CustomerID',axis =1)\n",
        "data.head()"
      ],
      "metadata": {
        "id": "zgBMlxoFIwXr"
      },
      "execution_count": null,
      "outputs": []
    },
    {
      "cell_type": "markdown",
      "source": [
        "The 'Annual income' and 'Spending score' columns have spaces in their column names, we need to rename them.\n",
        "\n",
        "Cleaning the data labels (Annual income and Spending Score) using rename()."
      ],
      "metadata": {
        "id": "SXI2MCXJcvSD"
      }
    },
    {
      "cell_type": "code",
      "source": [
        "data = data.rename(columns = {'Annual Income (k$)':'Annual_Income','Spending Score (1-100)':'Spending_Score'})\n",
        "data.head()"
      ],
      "metadata": {
        "id": "xTBVqHnKJTCR"
      },
      "execution_count": null,
      "outputs": []
    },
    {
      "cell_type": "markdown",
      "source": [
        "##Understanding and Visualizing Data"
      ],
      "metadata": {
        "id": "7KMdURzfc2nY"
      }
    },
    {
      "cell_type": "markdown",
      "source": [
        "Finding and viewing Corelations in the data and columns using corr()"
      ],
      "metadata": {
        "id": "JVh7Szilc5iB"
      }
    },
    {
      "cell_type": "code",
      "source": [
        "corr = data.corr()\n",
        "corr"
      ],
      "metadata": {
        "id": "2F6zqFE8J892"
      },
      "execution_count": null,
      "outputs": []
    },
    {
      "cell_type": "markdown",
      "source": [
        "Plotting the heatmap of correlation of all the columns of the dataset."
      ],
      "metadata": {
        "id": "uU3sFqJFc_iV"
      }
    },
    {
      "cell_type": "code",
      "source": [
        "fig, ax = plt.subplots(figsize=(10,8))\n",
        "sns.set(font_scale=1.5)\n",
        "ax = sns.heatmap(corr, cmap = 'Reds', annot = True, linewidths=0.5, linecolor='black')\n",
        "plt.title('Heatmap for the Data', fontsize = 20)\n",
        "plt.show()"
      ],
      "metadata": {
        "id": "4_MGX9pwKL0L"
      },
      "execution_count": null,
      "outputs": []
    },
    {
      "cell_type": "markdown",
      "source": [
        "##Analyzing Data for Modelling"
      ],
      "metadata": {
        "id": "Eb0AJ43OOUf1"
      }
    },
    {
      "cell_type": "markdown",
      "source": [
        "###Analyzing Annual Income"
      ],
      "metadata": {
        "id": "eLd_tBAxOh3U"
      }
    },
    {
      "cell_type": "markdown",
      "source": [
        "First we look at the 'Annual Income' column."
      ],
      "metadata": {
        "id": "Fy2zhpjhdq5Z"
      }
    },
    {
      "cell_type": "code",
      "source": [
        "data['Annual_Income'].head()"
      ],
      "metadata": {
        "id": "KpdNeuS8Ol_J"
      },
      "execution_count": null,
      "outputs": []
    },
    {
      "cell_type": "markdown",
      "source": [
        "Statistical data about Annual Income column."
      ],
      "metadata": {
        "id": "wRdRXj6cdsiS"
      }
    },
    {
      "cell_type": "code",
      "source": [
        "data['Annual_Income'].describe()"
      ],
      "metadata": {
        "id": "GXXkLgzEOq5a"
      },
      "execution_count": null,
      "outputs": []
    },
    {
      "cell_type": "markdown",
      "source": [
        "Visualizing statistical data about Annual Income column on a boxplot."
      ],
      "metadata": {
        "id": "fII9zTcJdyro"
      }
    },
    {
      "cell_type": "code",
      "source": [
        "fig, ax = plt.subplots(figsize=(5,8))\n",
        "sns.set(font_scale=1.5)\n",
        "ax = sns.boxplot(y=c_data[\"Annual_Income\"], color=\"#f73434\")\n",
        "ax.axhline(y=c_data[\"Annual_Income\"].max(), linestyle='--',color='#c90404', label=f'Max Income ({c_data.Annual_Income.max()})')\n",
        "ax.axhline(y=c_data[\"Annual_Income\"].describe()[6], linestyle='--',color='#f74343', label=f'75% Income ({c_data.Annual_Income.describe()[6]:.2f})')\n",
        "ax.axhline(y=c_data[\"Annual_Income\"].median(), linestyle='--',color='#eb50db', label=f'Median Income ({c_data.Annual_Income.median():.2f})')\n",
        "ax.axhline(y=c_data[\"Annual_Income\"].describe()[4], linestyle='--',color='#eb50db', label=f'25% Income ({c_data.Annual_Income.describe()[4]:.2f})')\n",
        "ax.axhline(y=c_data[\"Annual_Income\"].min(), linestyle='--',color='#046ebf', label=f'Min Income ({c_data.Annual_Income.min()})')\n",
        "ax.legend(fontsize='xx-small', loc='upper right')\n",
        "ax.set_ylabel('No. of Customers')\n",
        "\n",
        "plt.title('Annual Income (in Thousand USD)', fontsize = 20)\n",
        "plt.show()"
      ],
      "metadata": {
        "id": "tsJ0a1WzO7dD"
      },
      "execution_count": null,
      "outputs": []
    },
    {
      "cell_type": "markdown",
      "source": [
        "Distribution of Annual Income counts."
      ],
      "metadata": {
        "id": "G7kGMoHad2P7"
      }
    },
    {
      "cell_type": "code",
      "source": [
        "c_data['Annual_Income'].value_counts().head()"
      ],
      "metadata": {
        "id": "M-nXugdVPJWV"
      },
      "execution_count": null,
      "outputs": []
    },
    {
      "cell_type": "markdown",
      "source": [
        "Visualizing Annual Income count value distribution on a histogram."
      ],
      "metadata": {
        "id": "oJ523a2Ld7Xg"
      }
    },
    {
      "cell_type": "code",
      "source": [
        "fig, ax = plt.subplots(figsize=(15,7))\n",
        "sns.set(font_scale=1.5)\n",
        "ax = sns.histplot(data['Annual_Income'], bins=15, ax=ax, color=['orange'])\n",
        "ax.set_xlabel('Annual Income (in Thousand USD)')\n",
        "plt.title('Annual Income count Distribution of Customers', fontsize = 20)\n",
        "plt.show()"
      ],
      "metadata": {
        "id": "Ub7ZbuX6R2nM"
      },
      "execution_count": null,
      "outputs": []
    },
    {
      "cell_type": "markdown",
      "source": [
        "Visualizing Annual Income per Age on a Scatterplot."
      ],
      "metadata": {
        "id": "OYGnqctoeAmH"
      }
    },
    {
      "cell_type": "code",
      "source": [
        "fig, ax = plt.subplots(figsize=(15,7))\n",
        "sns.set(font_scale=1.5)\n",
        "ax = sns.scatterplot(y=data['Annual_Income'], x=data['Age'], color='#f73434', s=70,edgecolor='black', linewidth=0.3)\n",
        "ax.set_ylabel('Annual Income (in Thousand USD)')\n",
        "\n",
        "plt.title('Annual Income per Age', fontsize = 20)\n",
        "plt.show()"
      ],
      "metadata": {
        "id": "LAn0k_JbR-XR"
      },
      "execution_count": null,
      "outputs": []
    },
    {
      "cell_type": "markdown",
      "source": [
        "####Annual Income per Gender."
      ],
      "metadata": {
        "id": "nnrYN64geGRp"
      }
    },
    {
      "cell_type": "markdown",
      "source": [
        "Statistical data about the Annual Income of male customer."
      ],
      "metadata": {
        "id": "BasZD_YSeKTt"
      }
    },
    {
      "cell_type": "code",
      "source": [
        "data[data['Gender']=='Male'].Annual_Income.describe()"
      ],
      "metadata": {
        "id": "lQGm1WMwSLKL"
      },
      "execution_count": null,
      "outputs": []
    },
    {
      "cell_type": "markdown",
      "source": [
        "Statistical data about the Annual Income of female customer."
      ],
      "metadata": {
        "id": "wWqVQevLeWvA"
      }
    },
    {
      "cell_type": "code",
      "source": [
        "data[data['Gender']=='Female'].Annual_Income.describe()"
      ],
      "metadata": {
        "id": "GupWihOZSjeA"
      },
      "execution_count": null,
      "outputs": []
    },
    {
      "cell_type": "markdown",
      "source": [
        "Visualizing statistical difference of Annual Income between Male and Female Customers."
      ],
      "metadata": {
        "id": "Bsht-kDDecCL"
      }
    },
    {
      "cell_type": "code",
      "source": [
        "fig, ax = plt.subplots(figsize=(10,8))\n",
        "sns.set(font_scale=1.5)\n",
        "ax = sns.boxplot(x=data['Gender'], y=data[\"Annual_Income\"], hue=data['Gender'], palette='seismic')\n",
        "ax.set_ylabel('Annual Income (in Thousand USD)')\n",
        "\n",
        "plt.title('Annual Income Distribution by Gender', fontsize = 20)\n",
        "plt.show()"
      ],
      "metadata": {
        "id": "qAsb_nCtTEYm"
      },
      "execution_count": null,
      "outputs": []
    },
    {
      "cell_type": "markdown",
      "source": [
        "Visualizing annual Income per Age by Gender on a scatterplot."
      ],
      "metadata": {
        "id": "CbuGyN6qehcv"
      }
    },
    {
      "cell_type": "code",
      "source": [
        "fig, ax = plt.subplots(figsize=(15,7))\n",
        "sns.set(font_scale=1.5)\n",
        "ax = sns.scatterplot(y=data['Annual_Income'], x=data['Age'], hue=data['Gender'], palette='seismic', s=70,edgecolor='black', linewidth=0.3)\n",
        "ax.set_ylabel('Annual Income (in Thousand USD)')\n",
        "ax.legend(loc ='upper right')\n",
        "\n",
        "plt.title('Annual Income per Age by Gender', fontsize = 20)\n",
        "plt.show()"
      ],
      "metadata": {
        "id": "WUtHhdcpTIFk"
      },
      "execution_count": null,
      "outputs": []
    },
    {
      "cell_type": "markdown",
      "source": [
        "Visualizing difference of Annual Income between Male and Female Customers using Violin Plot."
      ],
      "metadata": {
        "id": "6z-OOk4Eepok"
      }
    },
    {
      "cell_type": "code",
      "source": [
        "fig, ax = plt.subplots(figsize=(15,7))\n",
        "sns.set(font_scale=1.5)\n",
        "ax = sns.violinplot(y=data['Annual_Income'],x=data['Gender'])\n",
        "ax.set_ylabel('Annual Income (in Thousand USD)')\n",
        "\n",
        "plt.title('Annual Income Distribution by Gender', fontsize = 20)\n",
        "plt.show()"
      ],
      "metadata": {
        "id": "4RhAYrwATNoX"
      },
      "execution_count": null,
      "outputs": []
    },
    {
      "cell_type": "markdown",
      "source": [
        "###Analyzing Spending Score Data"
      ],
      "metadata": {
        "id": "SvAm17cgT4Dz"
      }
    },
    {
      "cell_type": "markdown",
      "source": [
        "First we look at the Spending Score column."
      ],
      "metadata": {
        "id": "kONtxV-7e27q"
      }
    },
    {
      "cell_type": "code",
      "source": [
        "data['Spending_Score'].head()"
      ],
      "metadata": {
        "id": "OyGUrOVlT7Bo"
      },
      "execution_count": null,
      "outputs": []
    },
    {
      "cell_type": "markdown",
      "source": [
        "Statistical Data of Spending Scores Column."
      ],
      "metadata": {
        "id": "ViMmh2Wue4iY"
      }
    },
    {
      "cell_type": "code",
      "source": [
        "data['Spending_Score'].describe()"
      ],
      "metadata": {
        "id": "WIDvhEyPUC4S"
      },
      "execution_count": null,
      "outputs": []
    },
    {
      "cell_type": "markdown",
      "source": [
        "Visualizing statistical data about Spending score column on a boxplot."
      ],
      "metadata": {
        "id": "t5xDvIaOfHPH"
      }
    },
    {
      "cell_type": "code",
      "source": [
        "fig, ax = plt.subplots(figsize=(5,8))\n",
        "sns.set(font_scale=1.5)\n",
        "ax = sns.boxplot(y=data['Spending_Score'], color=\"#f73434\")\n",
        "ax.axhline(y=data['Spending_Score'].max(), linestyle='--',color='#c90404', label=f'Max Spending ({data.Spending_Score.max()})')\n",
        "ax.axhline(y=data['Spending_Score'].describe()[6], linestyle='--',color='#f74343', label=f'75% Spending ({data.Spending_Score.describe()[6]:.2f})')\n",
        "ax.axhline(y=data['Spending_Score'].median(), linestyle='--',color='#eb50db', label=f'Median Spending ({data.Spending_Score.median():.2f})')\n",
        "ax.axhline(y=data['Spending_Score'].describe()[4], linestyle='--',color='#eb50db', label=f'25% Spending ({data.Spending_Score.describe()[4]:.2f})')\n",
        "ax.axhline(y=data['Spending_Score'].min(), linestyle='--',color='#046ebf', label=f'Min Spending ({data.Spending_Score.min()})')\n",
        "ax.legend(fontsize='xx-small', loc='upper right')\n",
        "ax.set_ylabel('Spending Score')\n",
        "\n",
        "plt.title('Spending Score', fontsize = 20)\n",
        "plt.show()"
      ],
      "metadata": {
        "id": "Uvqw-tDPUHXK"
      },
      "execution_count": null,
      "outputs": []
    },
    {
      "cell_type": "markdown",
      "source": [
        "Visualizing Spending Scores per Age on a scatterplot."
      ],
      "metadata": {
        "id": "TWxwfy7SfLVn"
      }
    },
    {
      "cell_type": "code",
      "source": [
        "fig, ax = plt.subplots(figsize=(15,7))\n",
        "sns.set(font_scale=1.5)\n",
        "ax = sns.scatterplot(y=data['Spending_Score'], x=data['Age'], s=70, color='#f73434', edgecolor='black', linewidth=0.3)\n",
        "ax.set_ylabel('Spending Scores')\n",
        "\n",
        "plt.title('Spending Scores per Age', fontsize = 20)\n",
        "plt.show()"
      ],
      "metadata": {
        "id": "qqygckEqUXoE"
      },
      "execution_count": null,
      "outputs": []
    },
    {
      "cell_type": "markdown",
      "source": [
        "####Spending Scores per Gender\n",
        "Statistical data of Spending Score of male customer."
      ],
      "metadata": {
        "id": "CQemOJW8fP1F"
      }
    },
    {
      "cell_type": "code",
      "source": [
        "data[data['Gender']=='Male'].Spending_Score.describe()"
      ],
      "metadata": {
        "id": "NcFxB0k2Uk-d"
      },
      "execution_count": null,
      "outputs": []
    },
    {
      "cell_type": "markdown",
      "source": [
        "Statistical data of Spending Score of female customer."
      ],
      "metadata": {
        "id": "0FXBD3ePfZCa"
      }
    },
    {
      "cell_type": "code",
      "source": [
        "data[data['Gender']=='Female'].Spending_Score.describe()"
      ],
      "metadata": {
        "id": "7Asx1XU6UxOC"
      },
      "execution_count": null,
      "outputs": []
    },
    {
      "cell_type": "markdown",
      "source": [
        "Visualizing statistical difference of Spending Score between Male and Female Customers."
      ],
      "metadata": {
        "id": "6CL7aVLufd5k"
      }
    },
    {
      "cell_type": "code",
      "source": [
        "fig, ax = plt.subplots(figsize=(10,8))\n",
        "sns.set(font_scale=1.5)\n",
        "ax = sns.boxplot(x=data['Gender'], y=data[\"Spending_Score\"], hue=data['Gender'], palette='seismic')\n",
        "ax.set_ylabel('Spending Score')\n",
        "\n",
        "plt.title('Spending Score Distribution by Gender', fontsize = 20)\n",
        "plt.show()"
      ],
      "metadata": {
        "id": "TJKIaGoGU-lV"
      },
      "execution_count": null,
      "outputs": []
    },
    {
      "cell_type": "markdown",
      "source": [
        "Visualizing Spending Score per Age by Gender on a scatterplot."
      ],
      "metadata": {
        "id": "_NbbsIKDfiN6"
      }
    },
    {
      "cell_type": "code",
      "source": [
        "fig, ax = plt.subplots(figsize=(15,7))\n",
        "sns.set(font_scale=1.5)\n",
        "ax = sns.scatterplot(y=data['Spending_Score'], x=data['Age'], hue=data['Gender'], palette='seismic', s=70,edgecolor='black', linewidth=0.3)\n",
        "ax.set_ylabel('Spending Scores')\n",
        "ax.legend(loc ='upper right')\n",
        "\n",
        "plt.title('Spending Score per Age by Gender', fontsize = 20)\n",
        "plt.show()"
      ],
      "metadata": {
        "id": "dTG5imhsVfeO"
      },
      "execution_count": null,
      "outputs": []
    },
    {
      "cell_type": "markdown",
      "source": [
        "Visualizing difference of Spending Score between Male and Female Customers using Violin Plot."
      ],
      "metadata": {
        "id": "uG8U9i0hfsIx"
      }
    },
    {
      "cell_type": "code",
      "source": [
        "fig, ax = plt.subplots(figsize=(15,7))\n",
        "sns.set(font_scale=1.5)\n",
        "ax = sns.violinplot(y=data['Spending_Score'],x=data['Gender'])\n",
        "ax.set_ylabel('Spending Scores')\n",
        "\n",
        "plt.title('Spending Score distribution by Gender', fontsize = 20)\n",
        "plt.show()"
      ],
      "metadata": {
        "id": "e0iQY82EVmmb"
      },
      "execution_count": null,
      "outputs": []
    },
    {
      "cell_type": "markdown",
      "source": [
        "##Hierarchical Agglomerative Cluster Analysis"
      ],
      "metadata": {
        "id": "cc8XmzrLfwh1"
      }
    },
    {
      "cell_type": "code",
      "source": [
        "from sklearn.cluster import AgglomerativeClustering"
      ],
      "metadata": {
        "id": "BNe5fMzAVu5x"
      },
      "execution_count": null,
      "outputs": []
    },
    {
      "cell_type": "code",
      "source": [
        "from sklearn.datasets import make_blobs\n",
        "dataset= make_blobs(n_samples = 200,\n",
        "                    n_features = 2,\n",
        "                    centers = 5,\n",
        "                    cluster_std = 1.6,\n",
        "                    random_state = 50)"
      ],
      "metadata": {
        "id": "d3_Xk2dVqQB-"
      },
      "execution_count": null,
      "outputs": []
    },
    {
      "cell_type": "markdown",
      "source": [
        "We will now view and select the data that we need for clustering."
      ],
      "metadata": {
        "id": "iHwMSZaAgm2k"
      }
    },
    {
      "cell_type": "code",
      "source": [
        "clustering_data = data.iloc[:,[2,3]].values\n",
        "clustering_data"
      ],
      "metadata": {
        "id": "4d7H1FzOxkLn"
      },
      "execution_count": null,
      "outputs": []
    },
    {
      "cell_type": "markdown",
      "source": [
        "###Dendogram to find optimal number of clusters"
      ],
      "metadata": {
        "id": "J86Rvjd5gv8_"
      }
    },
    {
      "cell_type": "code",
      "source": [
        "dendrogram = sch.dendrogram(sch.linkage(clustering_data, method = 'ward'))\n",
        "plt.title('Dendrogram')\n",
        "plt.xlabel('Customers')\n",
        "plt.ylabel('Euclidean Distance')\n",
        "plt.show()"
      ],
      "metadata": {
        "id": "ZOfYp0sIvM-7"
      },
      "execution_count": null,
      "outputs": []
    },
    {
      "cell_type": "markdown",
      "source": [
        "###How to choose optimal number of clusters?\n",
        "\n",
        "Cut the dendrogram where the gap between two successive combination similarities is largest.\n",
        "\n",
        "That is, we cut the dendrogram through the longest vertical line to get good enough number of cluster, such that no horizontal line is cutting the longest vertical line.\n",
        "\n",
        "\n",
        "From the dendrogram we got above, we notice that:\n",
        "\n",
        "![noticelinejpg.jpg](data:image/jpeg;base64,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)\n",
        "\n",
        "Circled line is the only vertical line that is the longest and not being cut by any neighboring horizontal line.\n",
        "\n",
        "![horizontallinejpg.jpeg](data:image/jpeg;base64,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)\n",
        "\n",
        "So, we draw a horizontal line through this line and observe all the vertical lines our horizontal line is intersecting.\n",
        "\n",
        "We notice that our horizontal line is intersecting 5 vertical lines.\n",
        "\n",
        "![notice5clustersjpg.jpeg](data:image/jpeg;base64,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)\n",
        "\n",
        "**Hence, the number of optimal clusters are 5 for the given data.**"
      ],
      "metadata": {
        "id": "YJxIOZr7u6v9"
      }
    },
    {
      "cell_type": "markdown",
      "source": [
        "###Train the model"
      ],
      "metadata": {
        "id": "ZX0HFMHShBnS"
      }
    },
    {
      "cell_type": "code",
      "source": [
        "clustering = AgglomerativeClustering(n_clusters = 5).fit(clustering_data)\n",
        "y_hc = clustering.fit_predict(clustering_data)"
      ],
      "metadata": {
        "id": "cXONMAoOwQCS"
      },
      "execution_count": null,
      "outputs": []
    },
    {
      "cell_type": "markdown",
      "source": [
        "####Predicted Values"
      ],
      "metadata": {
        "id": "ZVoh_TuRdcBV"
      }
    },
    {
      "cell_type": "code",
      "source": [
        "y_hc"
      ],
      "metadata": {
        "id": "cOHWOXKazkf9"
      },
      "execution_count": null,
      "outputs": []
    },
    {
      "cell_type": "code",
      "source": [
        "clusters = clustering_data.copy()\n",
        "#Transform this copy of clustering data 'array' to 'DataFrame' so that predicted values can be appended to it.\n",
        "clusters = pd.DataFrame(clusters, columns=['Annual_Income', 'Spending_Score'])\n",
        "#Append Cluster Predictions columns to this new copy of clustering data\n",
        "clusters['Cluster_Prediction'] = clustering.fit_predict(clustering_data)\n",
        "clusters.head()"
      ],
      "metadata": {
        "id": "WhMDAEMPdZZp"
      },
      "execution_count": null,
      "outputs": []
    },
    {
      "cell_type": "markdown",
      "source": [
        "###Visualizing the clusters"
      ],
      "metadata": {
        "id": "R8DumlM-hMge"
      }
    },
    {
      "cell_type": "code",
      "source": [
        "unique_values = np.unique(y_hc)\n",
        "for value in unique_values:\n",
        "  plt.scatter(clustering_data[y_hc == value,0], clustering_data[y_hc == value, 1], label = 'Cluster {}'.format(value+1))\n",
        "plt.title('Cluster of Customers')\n",
        "plt.xlabel('Annual Income')\n",
        "plt.ylabel('Spending Score')\n",
        "plt.legend(bbox_to_anchor =(1., 0.85), ncol = 1) #bbox_to_anchor shows the position of legend *outside* the graph and\n",
        "                                                 #ncol denotes the number of columns in the legend\n",
        "plt.show()"
      ],
      "metadata": {
        "id": "cpYzr_kslE_N"
      },
      "execution_count": null,
      "outputs": []
    },
    {
      "cell_type": "markdown",
      "source": [
        "##Observations and Inferences"
      ],
      "metadata": {
        "id": "wB8F8tz0QtdD"
      }
    },
    {
      "cell_type": "code",
      "source": [
        "fig, ax = plt.subplots(nrows=3, ncols=2, figsize=(15,20))\n",
        "\n",
        "#Subplot for cluster 1\n",
        "ax[0,0].scatter(x=clusters.loc[clusters['Cluster_Prediction'] == 0]['Annual_Income'],\n",
        "            y=clusters.loc[clusters['Cluster_Prediction'] == 0]['Spending_Score'],\n",
        "            s=40,edgecolor='black', linewidth=0.3, c='blue', label='Cluster 1')\n",
        "\n",
        "ax[0,0].set(xlim=(0,140), ylim=(0,100), xlabel='Annual Income', ylabel='Spending Score', title='Cluster 1')\n",
        "\n",
        "\n",
        "#Subplot for cluster 2\n",
        "ax[0,1].scatter(x=clusters.loc[clusters['Cluster_Prediction'] == 1]['Annual_Income'],\n",
        "            y=clusters.loc[clusters['Cluster_Prediction'] == 1]['Spending_Score'],\n",
        "            s=40,edgecolor='black', linewidth=0.3, c='orange', label='Cluster 2')\n",
        "\n",
        "ax[0,1].set(xlim=(0,140), ylim=(0,100), xlabel='Annual Income', ylabel='Spending Score', title='Cluster 2')\n",
        "\n",
        "\n",
        "#Subplot for cluster 3\n",
        "ax[1,0].scatter(x=clusters.loc[clusters['Cluster_Prediction'] == 2]['Annual_Income'],\n",
        "            y=clusters.loc[clusters['Cluster_Prediction'] == 2]['Spending_Score'],\n",
        "            s=40,edgecolor='black', linewidth=0.2, c='green', label='Cluster 3')\n",
        "\n",
        "ax[1,0].set(xlim=(0,140), ylim=(0,100), xlabel='Annual Income', ylabel='Spending Score', title='Cluster 3')\n",
        "\n",
        "\n",
        "#Subplot for cluster 4\n",
        "ax[1,1].scatter(x=clusters.loc[clusters['Cluster_Prediction'] == 3]['Annual_Income'],\n",
        "            y=clusters.loc[clusters['Cluster_Prediction'] == 3]['Spending_Score'],\n",
        "            s=40,edgecolor='black', linewidth=0.3, c='red', label='Cluster 4')\n",
        "ax[1,1].set(xlim=(0,140), ylim=(0,100), xlabel='Annual Income', ylabel='Spending Score', title='Cluster 4')\n",
        "\n",
        "\n",
        "#Subplot for cluster 5\n",
        "ax[2,0].scatter(x=clusters.loc[clusters['Cluster_Prediction'] == 4]['Annual_Income'],\n",
        "            y=clusters.loc[clusters['Cluster_Prediction'] == 4]['Spending_Score'],\n",
        "            s=40,edgecolor='black', linewidth=0.3, c='purple', label='Cluster 5')\n",
        "\n",
        "ax[2,0].set(xlim=(0,140), ylim=(0,100), xlabel='Annual Income', ylabel='Spending Score', title='Cluster 5')\n",
        "\n",
        "fig.delaxes(ax[2,1])\n",
        "fig.legend(loc='right')\n",
        "fig.suptitle('Individual Clusters')\n",
        "plt.show()"
      ],
      "metadata": {
        "id": "VZuk0H_rgRT0"
      },
      "execution_count": null,
      "outputs": []
    },
    {
      "cell_type": "markdown",
      "source": [
        "#####Cluster 1 - Navy Blue (Misers)\n",
        "*Misers meaning: People who hoard money and spends as little as possible*\n",
        "\n",
        "**These are customers with high annual income but low spending score.**\n",
        "\n",
        "**Inference:** These could be the customers that are not much satisfied with the mall products or services.\n",
        "\n",
        "**Target potential:** Quite High as these customers have potential to spend more money.\n"
      ],
      "metadata": {
        "id": "OEZaPd4aQ3-g"
      }
    },
    {
      "cell_type": "markdown",
      "source": [
        "Cluster 2 - Orange (Normal Customers)\n",
        "\n",
        "**Inference:** These are the customers with average Annual Income and Spending Score which seems most in frequency.\n",
        "\n",
        "**Target Potential:** Not Much as there will always be a high number of average customers but different data analysis techniques can be used to increase the spending scores of average customers\n"
      ],
      "metadata": {
        "id": "E41s5XGUF7sd"
      }
    },
    {
      "cell_type": "markdown",
      "source": [
        "Cluster 3 - Green (Lavish)\n",
        "\n",
        "**Inference:** These are the customers whose Annual Income is High so is their Spending Score. These people might be the regular customers of the mall and are convinced by the mall’s facilities\n",
        "\n",
        "**Target Potential:** Very High. People with high income and high spending scores creates an ideal case for the mall or shops as these people are the prime sources of profit."
      ],
      "metadata": {
        "id": "AS6Y1Dv7PWb4"
      }
    },
    {
      "cell_type": "markdown",
      "source": [
        "Cluster 4 - Red (Spendthrift)\n",
        "\n",
        "**Inference:** These are the customers with relatively low annual income but have high spending score. They probably are extremely satisfied with the mall facilities or just love to shop.\n",
        "\n",
        "**Target Potential:** High. These customers can also be treated as potential target but they can be unpredictive. So mall or shop owner might not proactively target these people but still will try not to lose them."
      ],
      "metadata": {
        "id": "FiNJ4UnARYBi"
      }
    },
    {
      "cell_type": "markdown",
      "source": [
        "Cluster 5 - Purple (Balanced Customers)\n",
        "\n",
        "**Inference:** These are the customers who have low Annual income and low spending which makes sense.\n",
        "\n",
        "**Target Potential:** Very Low. Mall or shop owners will be less interested in this segment of customers."
      ],
      "metadata": {
        "id": "AibkSvtfSyzT"
      }
    },
    {
      "cell_type": "markdown",
      "source": [
        "##Conclusion and Recommendations for Mall/Shop/Business Owner\n"
      ],
      "metadata": {
        "id": "0e2skhMdiIun"
      }
    },
    {
      "cell_type": "markdown",
      "source": [
        "After working with the Mall customers data containing information regarding their Customer_ID, Age, Gender, Annual Income, and their Spending Score. And analyzing the features Annual Income and Spending Score of customers using an unsupervised machine learning algorithm i.e., Hierarchical Clustering, It can be safely recommended that Mall owners should focus heavily on customers with high spending score. As they are the direct influencers of business profitability.\n",
        "\n",
        "An indirect influence to profitability of business could be the segment of customers whose Spending Score is not high enough but they earn a lot annually. These could be potential target as they are more probable to spend more if the right facilities and products are provided to them. Without analysis this specific customer segment could have been overlooked, causing potential profit opportunity lost.\n",
        "\n",
        "Hence, business owner should concentrate their marketing heavily upon these targeted segments of the customers. Marketing could involve from a wide range of options such as improving facilities that attracts these customers, collecting more information regarding their product preferences and update the inventory pertaining to the same, providing incentives to spend more to these customers, etc.\n",
        "\n",
        "This is how powerful data analysis for businesses can be. And this is really just tip of the iceberg. There is so much more that can be done with business or any data which can make us take better decisions for more profitable future."
      ],
      "metadata": {
        "id": "-kBKZoF5iY1l"
      }
    },
    {
      "cell_type": "markdown",
      "source": [
        "Checkout the [complete project walkthrough on My Website](https://sites.google.com/student.onlinedegree.iitm.ac.in/vaibhavsatish/home/heirarchical-cluster-analysis?authuser=1)\n",
        "\n",
        "Give a read to [Broad Brush on HAC from My Blog](https://vaibhavsatish.substack.com/p/learn-and-implement-hierarchical)\n",
        "\n",
        "[Link to Dataset](https://www.kaggle.com/datasets/vjchoudhary7/customer-segmentation-tutorial-in-python)\n",
        "\n",
        "Scikit Learn hierarchical Clustering [Documentation link](https://scikit-learn.org/stable/modules/clustering.html#hierarchical-clustering)"
      ],
      "metadata": {
        "id": "TnnMjudNq3fQ"
      }
    },
    {
      "cell_type": "markdown",
      "source": [
        "#Thank You!"
      ],
      "metadata": {
        "id": "8E554ftfh4Ge"
      }
    }
  ]
}